{
 "cells": [
  {
   "cell_type": "code",
   "execution_count": null,
   "metadata": {
    "id": "q9vEf0rECsft"
   },
   "outputs": [],
   "source": [
    "import tensorflow as tf\n",
    "import numpy as np\n",
    "from keras.models import Sequential\n",
    "from keras.layers import Dense\n",
    "from matplotlib.pyplot import plot\n"
   ]
  },
  {
   "cell_type": "code",
   "execution_count": null,
   "metadata": {
    "id": "VpogxwFXDTsd"
   },
   "outputs": [],
   "source": [
    "#load dataset\n",
    "fn2 = \"log_test_MNLI_entropy_opt_12class.txt\"\n",
    "fn = \"log_train_MNLI_entropy_opt_12class.txt\"\n",
    "\n",
    "nparr2 = np.loadtxt(fn2, delimiter=\",\")\n",
    "nparr = np.loadtxt(fn, delimiter=\",\")"
   ]
  },
  {
   "cell_type": "code",
   "execution_count": null,
   "metadata": {
    "id": "tcTwqf21OOfY"
   },
   "outputs": [],
   "source": [
    "#split 80/20\n",
    "#whether to average entropies up to start_layer or just use entropy at start layer\n",
    "avg = 0 \n",
    "#layer after which you make entropy prediction\n",
    "start_layer = 6 #indexed 0-11\n",
    "\n",
    "test = nparr2[:,:11]\n",
    "train = nparr[:,:11]\n",
    "\n",
    "if avg:\n",
    "  (x_train, y_train) = (train[:,:start_layer], train[:,start_layer+1:])\n",
    "  (x_test, y_test) = (test[:,:start_layer], test[:,start_layer+1:])\n",
    "  x_train = np.mean(x_train, axis=-1)\n",
    "  x_test = np.mean(x_test, axis=-1)\n",
    "else:\n",
    "  (x_train, y_train) = (train[:,start_layer], train[:,start_layer+1:])\n",
    "  (x_test, y_test) = (test[:,start_layer], test[:,start_layer+1:])"
   ]
  },
  {
   "cell_type": "code",
   "execution_count": null,
   "metadata": {
    "colab": {
     "base_uri": "https://localhost:8080/"
    },
    "id": "uxnIly95IPWm",
    "outputId": "6b597dad-197c-43cf-aee3-ffb059399b7c"
   },
   "outputs": [
    {
     "name": "stdout",
     "output_type": "stream",
     "text": [
      "Epoch 1/3\n",
      "12268/12268 [==============================] - 19s 2ms/step - loss: 0.0497\n",
      "Epoch 2/3\n",
      "12268/12268 [==============================] - 19s 2ms/step - loss: 0.0484\n",
      "Epoch 3/3\n",
      "12268/12268 [==============================] - 19s 2ms/step - loss: 0.0483\n"
     ]
    },
    {
     "data": {
      "text/plain": [
       "<tensorflow.python.keras.callbacks.History at 0x7fdcb8415850>"
      ]
     },
     "execution_count": 20,
     "metadata": {
      "tags": []
     },
     "output_type": "execute_result"
    }
   ],
   "source": [
    "model = Sequential()\n",
    "model.add(Dense(64, activation='relu', input_dim = 1)) #input layer\n",
    "model.add(Dense(64, activation='relu'))\n",
    "model.add(Dense(64, activation='relu'))\n",
    "model.add(Dense(64, activation='relu'))\n",
    "#model.add(Dense(64, activation='linear'))\n",
    "model.add(Dense(10-start_layer)) # output layer\n",
    "\n",
    "model.compile(\n",
    "    optimizer='adam',\n",
    "    loss='mean_squared_error' \n",
    ")\n",
    "\n",
    "model.fit(x_train, y_train, epochs=3, verbose=1)"
   ]
  },
  {
   "cell_type": "code",
   "execution_count": null,
   "metadata": {
    "colab": {
     "base_uri": "https://localhost:8080/"
    },
    "id": "6ylyMrT3rx6o",
    "outputId": "f992994a-5180-4cda-9347-91e7df118579"
   },
   "outputs": [
    {
     "name": "stdout",
     "output_type": "stream",
     "text": [
      "307/307 [==============================] - 0s 924us/step - loss: 0.0505\n"
     ]
    }
   ],
   "source": [
    "#check prediction\n",
    "val_loss = model.evaluate(x_test, y_test)\n",
    "#model.summary()\n",
    "\n",
    "  "
   ]
  },
  {
   "cell_type": "code",
   "execution_count": null,
   "metadata": {
    "colab": {
     "base_uri": "https://localhost:8080/"
    },
    "id": "3s-qMGKPzywb",
    "outputId": "1b0e08d7-9af3-4d0d-9d86-dca22da7a0b9"
   },
   "outputs": [],
   "source": [
    "#produce lookup table\n",
    "table = np.zeros((100, 11-start_layer))\n",
    "for i in range(0,100):\n",
    "  xval = i*0.01;\n",
    "  yval = model.predict(np.array([xval]), batch_size=1)\n",
    "  table[i,0] = xval\n",
    "  table[i,1:] = yval[0]\n",
    "\n",
    "threshold_indices = table < 0\n",
    "table[threshold_indices] = 0\n",
    "\n",
    "np.savetxt(\"mnli_lookup_table_opt_layer7.csv\", table, delimiter=\",\")"
   ]
  }
 ],
 "metadata": {
  "colab": {
   "collapsed_sections": [],
   "name": "entropypredictor.ipynb",
   "provenance": []
  },
  "kernelspec": {
   "display_name": "Python 3",
   "language": "python",
   "name": "python3"
  },
  "language_info": {
   "codemirror_mode": {
    "name": "ipython",
    "version": 3
   },
   "file_extension": ".py",
   "mimetype": "text/x-python",
   "name": "python",
   "nbconvert_exporter": "python",
   "pygments_lexer": "ipython3",
   "version": "3.7.6"
  }
 },
 "nbformat": 4,
 "nbformat_minor": 1
}
