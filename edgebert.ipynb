{
  "nbformat": 4,
  "nbformat_minor": 0,
  "metadata": {
    "accelerator": "GPU",
    "colab": {
      "name": "edgebert.ipynb",
      "provenance": [],
      "collapsed_sections": []
    },
    "kernelspec": {
      "display_name": "Python 3",
      "name": "python3"
    },
    "language_info": {
      "name": "python"
    }
  },
  "cells": [
    {
      "cell_type": "markdown",
      "metadata": {
        "id": "qLso4jRyGwi-"
      },
      "source": [
        "# Install dependencies and clone EdgeBERT repo\n",
        "\n"
      ]
    },
    {
      "cell_type": "code",
      "metadata": {
        "id": "NHZCOi7XE5IX"
      },
      "source": [
        "!git clone https://$GITHUB_AUTH@github.com/chooper1/EdgeBERT.git"
      ],
      "execution_count": null,
      "outputs": []
    },
    {
      "cell_type": "code",
      "metadata": {
        "id": "N5He8MyjH_Rc"
      },
      "source": [
        "!pip install urllib3==1.25.4"
      ],
      "execution_count": null,
      "outputs": []
    },
    {
      "cell_type": "code",
      "metadata": {
        "id": "rCQlFckmGW26"
      },
      "source": [
        "%cd ./EdgeBERT/EdgeBERT/transformers/\n",
        "!python setup.py install\n",
        "%cd ../../.."
      ],
      "execution_count": null,
      "outputs": []
    },
    {
      "cell_type": "markdown",
      "metadata": {
        "id": "nsjaCR2fJm8w"
      },
      "source": [
        "# Download Datasets"
      ]
    },
    {
      "cell_type": "code",
      "metadata": {
        "id": "JbJxIu48J6qW"
      },
      "source": [
        "!git clone https://github.com/nyu-mll/GLUE-baselines.git\n",
        "!python GLUE-baselines/download_glue_data.py"
      ],
      "execution_count": null,
      "outputs": []
    },
    {
      "cell_type": "markdown",
      "metadata": {
        "id": "m3UaxeFhJhn6"
      },
      "source": [
        "# Training Setup"
      ]
    },
    {
      "cell_type": "code",
      "metadata": {
        "id": "ahnKZ6zNK3l_"
      },
      "source": [
        "%cd ./EdgeBERT/EdgeBERT/scripts/"
      ],
      "execution_count": null,
      "outputs": []
    },
    {
      "cell_type": "code",
      "metadata": {
        "id": "B_8MW4O1JbID"
      },
      "source": [
        "!export CUDA_VISIBLE_DEVICES=0 "
      ],
      "execution_count": null,
      "outputs": []
    },
    {
      "cell_type": "markdown",
      "metadata": {
        "id": "-VT-_4DCf8FL"
      },
      "source": [
        "# Train Teacher"
      ]
    },
    {
      "cell_type": "code",
      "metadata": {
        "id": "F0zF3bjif8FN"
      },
      "source": [
        "!python ../examples/run_glue.py \\\n",
        "  --model_type albert \\\n",
        "  --model_name_or_path albert-base-v2 \\\n",
        "  --task_name SST-2 \\\n",
        "  --do_train \\\n",
        "  --do_eval \\\n",
        "  --do_lower_case \\\n",
        "  --data_dir ./glue_data/SST-2 \\\n",
        "  --max_seq_length 128 \\\n",
        "  --per_gpu_eval_batch_size 1 \\\n",
        "  --per_gpu_train_batch_size 32 \\\n",
        "  --learning_rate 3e-5 \\\n",
        "  --num_train_epochs 3 \\\n",
        "  --save_steps 0 \\\n",
        "  --seed 42 \\\n",
        "  --output_dir ./saved_models/albert-base/SST-2/teacher \\\n",
        "  --overwrite_cache \\\n",
        "  --overwrite_output_dir"
      ],
      "execution_count": null,
      "outputs": []
    },
    {
      "cell_type": "markdown",
      "metadata": {
        "id": "jKLF_Iysf-0O"
      },
      "source": [
        "# Train Model"
      ]
    },
    {
      "cell_type": "code",
      "metadata": {
        "id": "aghc_u5JKkXZ"
      },
      "source": [
        "!python ../examples/masked_run_highway_glue.py --model_type masked_albert \\\n",
        "  --model_name_or_path albert-base-v2 \\\n",
        "  --task_name SST-2 \\\n",
        "  --do_train \\\n",
        "  --do_eval \\\n",
        "  --do_lower_case \\\n",
        "  --data_dir ./glue_data/SST-2 \\\n",
        "  --max_seq_length 128 \\\n",
        "  --per_gpu_eval_batch_size=1 \\\n",
        "  --per_gpu_train_batch_size=64 \\\n",
        "  --learning_rate 3e-5 \\\n",
        "  --num_train_epochs 5 \\\n",
        "  --overwrite_output_dir \\\n",
        "  --seed 42 \\\n",
        "  --output_dir ./saved_models/masked_albert/SST-2/two_stage_pruned_0.6 \\\n",
        "  --plot_data_dir ./plotting/ \\\n",
        "  --save_steps 0 \\\n",
        "  --overwrite_cache \\\n",
        "  --eval_after_first_stage \\\n",
        "  --warmup_steps 1000 \\\n",
        "  --mask_scores_learning_rate 1e-2 \\\n",
        "  --initial_threshold 1 --final_threshold 0.6 \\\n",
        "  --initial_warmup 2 --final_warmup 3 \\\n",
        "  --pruning_method magnitude --mask_init constant --mask_scale 0. \\\n",
        "  --teacher_type albert_teacher --teacher_name_or_path ./saved_models/albert-base/SST-2/teacher \\\n",
        "  --alpha_ce 0.1 --alpha_distil 0.9"
      ],
      "execution_count": null,
      "outputs": []
    },
    {
      "cell_type": "markdown",
      "metadata": {
        "id": "9FvPIdVzOhMt"
      },
      "source": [
        "# Bertarize model "
      ]
    },
    {
      "cell_type": "code",
      "metadata": {
        "id": "GrMwpm3gO1-f"
      },
      "source": [
        "!python ../examples/bertarize.py \\\n",
        "    --pruning_method magnitude \\\n",
        "    --threshold 0.6 \\\n",
        "    --model_name_or_path ./saved_models/masked_albert/SST-2/two_stage_pruned_0.6 \\\n"
      ],
      "execution_count": null,
      "outputs": []
    },
    {
      "cell_type": "markdown",
      "metadata": {
        "id": "JFbR1Qd4lN3O"
      },
      "source": [
        "# Evaluate the performance of the trained model with Early Exit "
      ]
    },
    {
      "cell_type": "code",
      "metadata": {
        "colab": {
          "background_save": true
        },
        "id": "xfYW7eadlN3O"
      },
      "source": [
        "%%shell\n",
        "ENTROPIES=\"0.23 0.28 0.46\"\n",
        "\n",
        "for ENTROPY in $ENTROPIES; do\n",
        "    echo $ENTROPY\n",
        "    python ../examples/masked_run_highway_glue.py --model_type albert \\\n",
        "      --model_name_or_path ./saved_models/masked_albert/SST-2/bertarized_two_stage_pruned_0.6 \\\n",
        "      --task_name SST-2 \\\n",
        "      --do_eval \\\n",
        "      --do_lower_case \\\n",
        "      --data_dir ./glue_data/SST-2 \\\n",
        "      --max_seq_length 128 \\\n",
        "      --per_gpu_eval_batch_size=1 \\\n",
        "      --overwrite_output_dir \\\n",
        "      --output_dir ./saved_models/masked_albert/SST-2/bertarized_two_stage_pruned_0.6  \\\n",
        "      --plot_data_dir ./plotting/ \\\n",
        "      --early_exit_entropy $ENTROPY \\\n",
        "      --eval_highway \\ \n",
        "      --overwrite_cache \n",
        "done\n"
      ],
      "execution_count": null,
      "outputs": []
    },
    {
      "cell_type": "markdown",
      "metadata": {
        "id": "65X18n0alSwf"
      },
      "source": [
        "# Load LUT for Entropy Prediction\n",
        "Load the .csv file obtained from the entropy_predictor.ipynb file (alternatively, copy the example LUT from Entropy_LUT/ to the base directory)"
      ]
    },
    {
      "cell_type": "markdown",
      "metadata": {
        "id": "tl2cpNlMlOaP"
      },
      "source": [
        "# Evaluate the performance of the trained model with Entropy Prediction"
      ]
    },
    {
      "cell_type": "code",
      "metadata": {
        "colab": {
          "background_save": true
        },
        "id": "ayHNa-LclOaQ"
      },
      "source": [
        "%%shell\n",
        "\n",
        "ENTROPIES=\"0.09 0.16 0.28\"\n",
        "\n",
        "for ENTROPY in $ENTROPIES; do\n",
        "    echo $ENTROPY\n",
        "    python ../examples/masked_run_highway_glue.py --model_type albert \\\n",
        "      --model_name_or_path ./saved_models/masked_albert/SST-2/bertarized_two_stage_pruned_0.6 \\\n",
        "      --task_name SST-2 \\\n",
        "      --do_eval \\\n",
        "      --do_lower_case \\\n",
        "      --data_dir ./glue_data/SST-2 \\\n",
        "      --max_seq_length 128 \\\n",
        "      --per_gpu_eval_batch_size=1 \\\n",
        "      --overwrite_output_dir \\\n",
        "      --output_dir ./saved_models/masked_albert/SST-2/bertarized_two_stage_pruned_0.6  \\\n",
        "      --plot_data_dir ./plotting/ \\\n",
        "      --early_exit_entropy $ENTROPY \\\n",
        "      --eval_highway \\ \n",
        "      --entropy_predictor \\\n",
        "      --predict_layer 1 \\\n",
        "      --lookup_table_file ./sst2_lookup_table_opt.csv \\\n",
        "      --overwrite_cache \n",
        "done"
      ],
      "execution_count": null,
      "outputs": []
    },
    {
      "cell_type": "markdown",
      "metadata": {
        "id": "K6kteBK_rTNG"
      },
      "source": [
        "# Get Average Predict Layer with Entropy Prediction"
      ]
    },
    {
      "cell_type": "code",
      "metadata": {
        "colab": {
          "background_save": true
        },
        "id": "uDUq_VgurZCC"
      },
      "source": [
        "%%shell\n",
        "\n",
        "ENTROPIES=\"0.09 0.16 0.28\"\n",
        "\n",
        "for ENTROPY in $ENTROPIES; do\n",
        "    echo $ENTROPY\n",
        "    python ../examples/masked_run_highway_glue.py --model_type albert \\\n",
        "      --model_name_or_path ./saved_models/masked_albert/SST-2/bertarized_two_stage_pruned_0.6 \\\n",
        "      --task_name SST-2 \\\n",
        "      --do_eval \\\n",
        "      --do_lower_case \\\n",
        "      --data_dir ./glue_data/SST-2 \\\n",
        "      --max_seq_length 128 \\\n",
        "      --per_gpu_eval_batch_size=1 \\\n",
        "      --overwrite_output_dir \\\n",
        "      --output_dir ./saved_models/masked_albert/SST-2/bertarized_two_stage_pruned_0.6  \\\n",
        "      --plot_data_dir ./plotting/ \\\n",
        "      --early_exit_entropy $ENTROPY \\\n",
        "      --eval_highway \\ \n",
        "      --entropy_predictor \\\n",
        "      --predict_layer 1 \\\n",
        "      --lookup_table_file ./sst2_lookup_table_opt.csv \\\n",
        "      --no_ee_before \\\n",
        "      --overwrite_cache \n",
        "done"
      ],
      "execution_count": null,
      "outputs": []
    }
  ]
}